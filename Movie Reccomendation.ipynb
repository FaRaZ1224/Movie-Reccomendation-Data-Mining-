{
 "cells": [
  {
   "cell_type": "code",
   "execution_count": 20,
   "id": "2dc6e757",
   "metadata": {},
   "outputs": [
    {
     "name": "stdout",
     "output_type": "stream",
     "text": [
      "   movieId                         title  \\\n",
      "0        1                    Toy Story    \n",
      "1        2                      Jumanji    \n",
      "2        3             Grumpier Old Men    \n",
      "3        4            Waiting to Exhale    \n",
      "4        5  Father of the Bride Part II    \n",
      "\n",
      "                                        genres    year  \n",
      "0  Adventure|Animation|Children|Comedy|Fantasy  1995.0  \n",
      "1                   Adventure|Children|Fantasy  1995.0  \n",
      "2                               Comedy|Romance  1995.0  \n",
      "3                         Comedy|Drama|Romance  1995.0  \n",
      "4                                       Comedy  1995.0  \n"
     ]
    },
    {
     "name": "stderr",
     "output_type": "stream",
     "text": [
      "/var/folders/f6/f1mvwvdx6fqcgvv1vvc2263c0000gn/T/ipykernel_93478/2314952536.py:17: FutureWarning: The default value of regex will change from True to False in a future version.\n",
      "  movies['title'] = movies['title'].str.replace('\\(\\d{4}\\)', '')\n"
     ]
    }
   ],
   "source": [
    "import pandas as pd\n",
    "import numpy as np\n",
    "from sklearn.model_selection import train_test_split\n",
    "from sklearn.metrics.pairwise import cosine_similarity\n",
    "from sklearn.feature_extraction.text import TfidfVectorizer\n",
    "\n",
    "\n",
    "\n",
    "# Load the datasets\n",
    "movies = pd.read_csv('movies.csv')\n",
    "ratings = pd.read_csv('ratings.csv')\n",
    "\n",
    "# Extract the year from the movie titles\n",
    "movies['year'] = movies['title'].str.extract('\\((\\d{4})\\)', expand=False)\n",
    "\n",
    "# Remove the year from the movie titles\n",
    "movies['title'] = movies['title'].str.replace('\\(\\d{4}\\)', '')\n",
    "\n",
    "# Convert the year column to integers\n",
    "movies['year'] = pd.to_numeric(movies['year'])\n",
    "\n",
    "# Display the updated dataframe\n",
    "print(movies.head())\n"
   ]
  },
  {
   "cell_type": "code",
   "execution_count": 21,
   "id": "cb48d5d9",
   "metadata": {},
   "outputs": [
    {
     "name": "stdout",
     "output_type": "stream",
     "text": [
      "The dataset has no duplicates.\n"
     ]
    }
   ],
   "source": [
    "\n",
    "# Load the dataset\n",
    "df = pd.read_csv('ratings.csv')\n",
    "\n",
    "# Check for duplicates\n",
    "duplicates = df[df.duplicated()]\n",
    "\n",
    "if len(duplicates) > 0:\n",
    "    print('There are duplicates in the dataset.')\n",
    "else:\n",
    "    print('The dataset has no duplicates.')\n"
   ]
  },
  {
   "cell_type": "code",
   "execution_count": 22,
   "id": "f59c5c66",
   "metadata": {},
   "outputs": [
    {
     "name": "stdout",
     "output_type": "stream",
     "text": [
      "   movieId    rating\n",
      "0        1  3.893708\n",
      "1        2  3.251527\n",
      "2        3  3.142028\n",
      "3        4  2.853547\n",
      "4        5  3.058434\n"
     ]
    }
   ],
   "source": [
    "ratings = pd.read_csv('ratings.csv')\n",
    "\n",
    "# Calculate mean rating for each movie\n",
    "movie_ratings = ratings.groupby('movieId')['rating'].mean().reset_index()\n",
    "\n",
    "# Print the resulting dataframe\n",
    "print(movie_ratings.head())"
   ]
  },
  {
   "cell_type": "code",
   "execution_count": 24,
   "id": "c5e3664a",
   "metadata": {},
   "outputs": [
    {
     "name": "stdout",
     "output_type": "stream",
     "text": [
      "       movieId                         title  \\\n",
      "0            1                    Toy Story    \n",
      "1            2                      Jumanji    \n",
      "2            3             Grumpier Old Men    \n",
      "3            4            Waiting to Exhale    \n",
      "4            5  Father of the Bride Part II    \n",
      "...        ...                           ...   \n",
      "62418   209157                           We    \n",
      "62419   209159           Window of the Soul    \n",
      "62420   209163                    Bad Poems    \n",
      "62421   209169                 A Girl Thing    \n",
      "62422   209171      Women of Devil's Island    \n",
      "\n",
      "                                            genres    year  \n",
      "0      Adventure|Animation|Children|Comedy|Fantasy  1995.0  \n",
      "1                       Adventure|Children|Fantasy  1995.0  \n",
      "2                                   Comedy|Romance  1995.0  \n",
      "3                             Comedy|Drama|Romance  1995.0  \n",
      "4                                           Comedy  1995.0  \n",
      "...                                            ...     ...  \n",
      "62418                                        Drama  2018.0  \n",
      "62419                                  Documentary  2001.0  \n",
      "62420                                 Comedy|Drama  2018.0  \n",
      "62421                           (no genres listed)  2001.0  \n",
      "62422                       Action|Adventure|Drama  1962.0  \n",
      "\n",
      "[62423 rows x 4 columns]\n"
     ]
    }
   ],
   "source": [
    "# Merge the mean ratings with the movies dataframe\n",
    "\n",
    "\n",
    "print(movies)"
   ]
  },
  {
   "cell_type": "code",
   "execution_count": null,
   "id": "97104043",
   "metadata": {},
   "outputs": [],
   "source": [
    "merged_df = merged_df.drop(columns=['rating_x', 'rating_y'])\n"
   ]
  },
  {
   "cell_type": "code",
   "execution_count": 25,
   "id": "1795ac01",
   "metadata": {},
   "outputs": [],
   "source": [
    "# Preprocess genres column\n",
    "movies['genres'] = movies['genres'].apply(lambda x: x.split('|'))\n",
    "\n",
    "# Split dataset into training and testing sets\n",
    "train_df, test_df = train_test_split(movies, test_size=0.2, random_state=42)\n",
    "\n",
    "# Compute TF-IDF scores for genres\n",
    "tfidf = TfidfVectorizer(analyzer='word', ngram_range=(1, 2), min_df=0, stop_words='english')\n",
    "tfidf_matrix = tfidf.fit_transform(train_df['genres'].apply(lambda x: ' '.join(x)))\n",
    "\n",
    "# Calculate cosine similarity scores for movies\n",
    "cosine_sim = cosine_similarity(tfidf_matrix, tfidf_matrix)\n",
    "\n",
    "# Define function to recommend similar movies\n",
    "def get_recommendations(title, n=10, genre=None, rating=None, year=None):\n",
    "    # Find index of movie\n",
    "    idx = movies[movies['title'] == title].index[0]\n",
    "\n",
    "    # Calculate cosine similarity scores for all movies\n",
    "    sim_scores = list(enumerate(cosine_sim[idx]))\n",
    "\n",
    "    # Sort movies by similarity score\n",
    "    sim_scores = sorted(sim_scores, key=lambda x: x[1], reverse=True)\n",
    "\n",
    "    # Get top n similar movies\n",
    "    sim_scores = sim_scores[1:n+1]\n",
    "\n",
    "    # Get movie indices and filter based on user preferences\n",
    "    movie_indices = [i[0] for i in sim_scores]\n",
    "    if genre:\n",
    "        movie_indices = [i for i in movie_indices if genre in movies.iloc[i]['genres']]\n",
    "    if rating:\n",
    "        movie_indices = [i for i in movie_indices if movies.iloc[i]['rating'] >= rating]\n",
    "    if year:\n",
    "        movie_indices = [i for i in movie_indices if str(year) in movies.iloc[i]['title']]\n",
    "\n",
    "    # Return recommended movies\n",
    "    return movies.iloc[movie_indices][['title', 'genres', 'rating', 'year']]\n"
   ]
  },
  {
   "cell_type": "code",
   "execution_count": null,
   "id": "ec328235",
   "metadata": {},
   "outputs": [],
   "source": []
  }
 ],
 "metadata": {
  "kernelspec": {
   "display_name": "Python 3 (ipykernel)",
   "language": "python",
   "name": "python3"
  },
  "language_info": {
   "codemirror_mode": {
    "name": "ipython",
    "version": 3
   },
   "file_extension": ".py",
   "mimetype": "text/x-python",
   "name": "python",
   "nbconvert_exporter": "python",
   "pygments_lexer": "ipython3",
   "version": "3.9.12"
  }
 },
 "nbformat": 4,
 "nbformat_minor": 5
}
